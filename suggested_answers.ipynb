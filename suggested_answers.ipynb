{
 "cells": [
  {
   "cell_type": "markdown",
   "metadata": {
    "deletable": false,
    "editable": false
   },
   "source": [
    "# Data Analysis with Python\n",
    "\n",
    "> Exercises: Array Computing with NumPy.\n",
    "\n",
    "Kuo, Yao-Jen <yaojenkuo@datainpoint.com> from [DATAINPOINT](https://www.datainpoint.com)"
   ]
  },
  {
   "cell_type": "markdown",
   "metadata": {
    "deletable": false
   },
   "source": [
    "## Instructions\n",
    "\n",
    "- We've imported necessary modules/libraries at the beginning of each exercise.\n",
    "- We've defined the names of functions/inputs/arguments for you.\n",
    "- Write down your solution between the comments `### BEGIN SOLUTION` and `### END SOLUTION`.\n",
    "- Running tests to see if your solutions are right: Kernel -> Restart & Run All -> Restart and Run All Cells.\n",
    "- You can run tests after each question or after finishing all questions."
   ]
  },
  {
   "cell_type": "code",
   "execution_count": 1,
   "metadata": {
    "deletable": false,
    "editable": false
   },
   "outputs": [],
   "source": [
    "import numpy as np\n",
    "import unittest"
   ]
  },
  {
   "cell_type": "markdown",
   "metadata": {},
   "source": [
    "## Define a function named `create_nn_array` that is able to generate a `(9, 9)` array as specified.\n",
    "\n",
    "- Expected inputs: None.\n",
    "- Expected outputs: a (9, 9) array.\n",
    "\n",
    "```\n",
    "[[ 1  2  3  4  5  6  7  8  9]\n",
    " [ 2  4  6  8 10 12 14 16 18]\n",
    " [ 3  6  9 12 15 18 21 24 27]\n",
    " [ 4  8 12 16 20 24 28 32 36]\n",
    " [ 5 10 15 20 25 30 35 40 45]\n",
    " [ 6 12 18 24 30 36 42 48 54]\n",
    " [ 7 14 21 28 35 42 49 56 63]\n",
    " [ 8 16 24 32 40 48 56 64 72]\n",
    " [ 9 18 27 36 45 54 63 72 81]]\n",
    "```"
   ]
  },
  {
   "cell_type": "code",
   "execution_count": 2,
   "metadata": {},
   "outputs": [],
   "source": [
    "def create_nn_array():\n",
    "    \"\"\"\n",
    "    >>> nn_array = create_nn_array()\n",
    "    >>> nn_array.shape\n",
    "    (9, 9)\n",
    "    \"\"\"\n",
    "    ### BEGIN SOLUTION\n",
    "    nn_arr = (np.arange(1, 10).reshape(9, 1)).dot(np.arange(1, 10).reshape(1, 9))\n",
    "    return nn_arr\n",
    "    ### END SOLUTION"
   ]
  },
  {
   "cell_type": "markdown",
   "metadata": {},
   "source": [
    "## Define a function named `filter_evens_product` that is able to product the even numbers from a given array.\n",
    "\n",
    "- Expected inputs: an array.\n",
    "- Expected outputs: a numeric."
   ]
  },
  {
   "cell_type": "code",
   "execution_count": 3,
   "metadata": {},
   "outputs": [],
   "source": [
    "def filter_evens_product(x):\n",
    "    \"\"\"\n",
    "    >>> filter_evens_product(np.array([5, 5, 6, 6]))\n",
    "    36\n",
    "    >>> filter_evens_product(np.array([1, 2, 3, 4]))\n",
    "    8\n",
    "    >>> filter_evens_product(np.arange(4))\n",
    "    0\n",
    "    \"\"\"\n",
    "    ### BEGIN SOLUTION\n",
    "    evens = x[x % 2 == 0]\n",
    "    return evens.prod()\n",
    "    ### END SOLUTION"
   ]
  },
  {
   "cell_type": "markdown",
   "metadata": {},
   "source": [
    "## Define a function named `find_divisors` that is able to find the divisors of a given integer.\n",
    "\n",
    "- Expected inputs: an integer.\n",
    "- Expected outputs: an array."
   ]
  },
  {
   "cell_type": "code",
   "execution_count": 4,
   "metadata": {},
   "outputs": [],
   "source": [
    "def find_divisors(x):\n",
    "    \"\"\"\n",
    "    >>> find_divisors(1)\n",
    "    array([1])\n",
    "    >>> find_divisors(2)\n",
    "    array([1, 2])\n",
    "    >>> find_divisors(3)\n",
    "    array([1, 3])\n",
    "    >>> find_divisors(4)\n",
    "    array([1, 2, 4])\n",
    "    >>> find_divisors(5)\n",
    "    array([1, 5])\n",
    "    \"\"\"\n",
    "    ### BEGIN SOLUTION\n",
    "    possible_divisors = np.arange(1, x+1)\n",
    "    modulos = x % possible_divisors\n",
    "    divisors = possible_divisors[modulos == 0]\n",
    "    return divisors\n",
    "    ### END SOLUTION"
   ]
  },
  {
   "cell_type": "markdown",
   "metadata": {},
   "source": [
    "## Define a function named `var` that is able to calculate the variance of a given array.\n",
    "\n",
    "PS You may refer to the definition of variance: <https://en.wikipedia.org/wiki/Variance>\n",
    "\n",
    "\\begin{equation}\n",
    "Var(x) = \\frac{1}{N}\\sum_{i=1}^{N}(x_i - \\bar{x})^2\n",
    "\\end{equation}\n",
    "\n",
    "- Expected inputs: an array.\n",
    "- Expected outputs: a numeric."
   ]
  },
  {
   "cell_type": "code",
   "execution_count": 5,
   "metadata": {},
   "outputs": [],
   "source": [
    "def var(x):\n",
    "    \"\"\"\n",
    "    >>> var(np.arange(10))\n",
    "    8.25\n",
    "    >>> var(np.arange(100))\n",
    "    833.25\n",
    "    \"\"\"\n",
    "    ### BEGIN SOLUTION\n",
    "    N = x.size\n",
    "    x_bar = x.mean()\n",
    "    se = (x - x_bar)**2\n",
    "    sse = se.sum()\n",
    "    return sse / N\n",
    "    ### END SOLUTION"
   ]
  },
  {
   "cell_type": "markdown",
   "metadata": {},
   "source": [
    "## Define a function named `std` that is able to calculate the standard deviation of a given array.\n",
    "\n",
    "\\begin{equation}\n",
    "SD(x) = \\sqrt{Var(x)} = \\sqrt{\\frac{1}{N}\\sum_{i=1}^{N}(x_i - \\bar{x})^2}\n",
    "\\end{equation}\n",
    "\n",
    "PS You may refer to the definition of standard deviation: <https://en.wikipedia.org/wiki/Standard_deviation>\n",
    "\n",
    "- Expected inputs: an array\n",
    "- Expected outputs: a numeric"
   ]
  },
  {
   "cell_type": "code",
   "execution_count": 6,
   "metadata": {},
   "outputs": [],
   "source": [
    "def std(x):\n",
    "    \"\"\"\n",
    "    >>> std(np.arange(10))\n",
    "    2.8722813232690143\n",
    "    >>> std(np.arange(100))\n",
    "    28.86607004772212\n",
    "    \"\"\"\n",
    "    ### BEGIN SOLUTION\n",
    "    return np.sqrt(var(x))\n",
    "    ### END SOLUTION"
   ]
  },
  {
   "cell_type": "markdown",
   "metadata": {},
   "source": [
    "## Define a function named `cov` that is able to calculate the covariance of 2 same-length arrays.\n",
    "\n",
    "\\begin{equation}\n",
    "cov(x, y) = \\frac{1}{N}\\sum_{i=1}^{N}(x_i-\\bar{x})(y_i-\\bar{y})\n",
    "\\end{equation}\n",
    "\n",
    "PS You may refer to the definition of covariance: <https://en.wikipedia.org/wiki/Covariance>\n",
    "\n",
    "- Expected inputs: 2 arrays.\n",
    "- Expected outputs: a numeric."
   ]
  },
  {
   "cell_type": "code",
   "execution_count": 7,
   "metadata": {},
   "outputs": [],
   "source": [
    "def cov(x, y):\n",
    "    \"\"\"\n",
    "    >>> np.random.seed(123)\n",
    "    >>> x = np.random.randint(0, 50, 10)\n",
    "    >>> y = np.random.randint(0, 50, 10)\n",
    "    >>> cov(x, y)\n",
    "    -54.7\n",
    "    >>> np.random.seed(456)\n",
    "    >>> x = np.random.randint(0, 50, 10)\n",
    "    >>> y = np.random.randint(0, 50, 10)\n",
    "    >>> cov(x, y)\n",
    "    -23.249999999999996\n",
    "    \"\"\"\n",
    "    ### BEGIN SOLUTION\n",
    "    N = x.size\n",
    "    x_bar = x.mean()\n",
    "    y_bar = y.mean()\n",
    "    sum_err_prod = ((x - x_bar)*(y - y_bar)).sum()\n",
    "    return sum_err_prod / N\n",
    "    ### END SOLUTION"
   ]
  },
  {
   "cell_type": "markdown",
   "metadata": {},
   "source": [
    "## Define a function named `corr` that is able to calculate the correlation coefficient of 2 same-length arrays.\n",
    "\n",
    "\\begin{equation}\n",
    "r_{xy} = \\frac{cov(x, y)}{\\sqrt{cov(x, x)cov(y, y)}}\n",
    "\\end{equation}\n",
    "\n",
    "PS You may refer to the definition of correlation coefficient: <https://en.wikipedia.org/wiki/Correlation_coefficient>\n",
    "\n",
    "- Expected inputs: 2 arrays.\n",
    "- Expected outputs: a numeric."
   ]
  },
  {
   "cell_type": "code",
   "execution_count": 8,
   "metadata": {},
   "outputs": [],
   "source": [
    "def corr(x, y):\n",
    "    \"\"\"\n",
    "    >>> np.random.seed(123)\n",
    "    >>> x = np.random.randint(0, 50, 10)\n",
    "    >>> y = np.random.randint(0, 50, 10)\n",
    "    >>> corr(x, y)\n",
    "    -0.3409853364175933\n",
    "    >>> np.random.seed(456)\n",
    "    >>> x = np.random.randint(0, 50, 10)\n",
    "    >>> y = np.random.randint(0, 50, 10)\n",
    "    >>> corr(x, y)\n",
    "    -0.16475204420969639\n",
    "    \"\"\"\n",
    "    ### BEGIN SOLUTION\n",
    "    cov_x_y = cov(x, y)\n",
    "    cov_x_x = cov(x, x)\n",
    "    cov_y_y = cov(y, y)\n",
    "    return cov_x_y / np.sqrt(cov_x_x * cov_y_y)\n",
    "    ### END SOLUTION"
   ]
  },
  {
   "cell_type": "markdown",
   "metadata": {
    "deletable": false,
    "editable": false
   },
   "source": [
    "## Run tests!\n",
    "\n",
    "Kernel -> Restart & Run All -> Restart and Run All Cells."
   ]
  },
  {
   "cell_type": "code",
   "execution_count": 9,
   "metadata": {
    "deletable": false
   },
   "outputs": [
    {
     "name": "stderr",
     "output_type": "stream",
     "text": [
      "test_00_create_nn_array (__main__.TestArrayComputing) ... ok\n",
      "test_01_filter_evens_product (__main__.TestArrayComputing) ... ok\n",
      "test_02_find_divisors (__main__.TestArrayComputing) ... ok\n",
      "test_03_var (__main__.TestArrayComputing) ... ok\n",
      "test_04_std (__main__.TestArrayComputing) ... ok\n",
      "test_05_cov (__main__.TestArrayComputing) ... ok\n",
      "test_06_corr (__main__.TestArrayComputing) ... ok\n",
      "\n",
      "----------------------------------------------------------------------\n",
      "Ran 7 tests in 0.012s\n",
      "\n",
      "OK\n"
     ]
    }
   ],
   "source": [
    "class TestArrayComputing(unittest.TestCase):\n",
    "    def test_00_create_nn_array(self):\n",
    "        nn_array = create_nn_array()\n",
    "        self.assertEqual(nn_array.shape, (9, 9))\n",
    "        self.assertTrue(1 in nn_array)\n",
    "        self.assertTrue(4 in nn_array)\n",
    "        self.assertTrue(64 in nn_array)\n",
    "        self.assertTrue(81 in nn_array)\n",
    "    def test_01_filter_evens_product(self):\n",
    "        self.assertEqual(filter_evens_product(np.array([5, 5, 6, 6])), 36)\n",
    "        self.assertEqual(filter_evens_product(np.array([1, 2, 3, 4])), 8)\n",
    "        self.assertEqual(filter_evens_product(np.arange(4)), 0)\n",
    "    def test_02_find_divisors(self):\n",
    "        np.testing.assert_equal(find_divisors(1), np.array([1]))\n",
    "        np.testing.assert_equal(find_divisors(2), np.array([1, 2]))\n",
    "        np.testing.assert_equal(find_divisors(3), np.array([1, 3]))\n",
    "        np.testing.assert_equal(find_divisors(4), np.array([1, 2, 4]))\n",
    "        np.testing.assert_equal(find_divisors(5), np.array([1, 5]))\n",
    "    def test_03_var(self):\n",
    "        self.assertAlmostEqual(var(np.arange(10)), 8.25)\n",
    "        self.assertAlmostEqual(var(np.arange(100)), 833.25)\n",
    "    def test_04_std(self):\n",
    "        self.assertAlmostEqual(std(np.arange(10)), 2.8722813232690143)\n",
    "        self.assertAlmostEqual(std(np.arange(100)), 28.86607004772212)\n",
    "    def test_05_cov(self):\n",
    "        np.random.seed(123)\n",
    "        x = np.random.randint(0, 50, 10)\n",
    "        y = np.random.randint(0, 50, 10)\n",
    "        self.assertAlmostEqual(cov(x, y), -54.7)\n",
    "        np.random.seed(456)\n",
    "        x = np.random.randint(0, 50, 10)\n",
    "        y = np.random.randint(0, 50, 10)\n",
    "        self.assertAlmostEqual(cov(x, y), -23.249999999999996)\n",
    "    def test_06_corr(self):\n",
    "        np.random.seed(123)\n",
    "        x = np.random.randint(0, 50, 10)\n",
    "        y = np.random.randint(0, 50, 10)\n",
    "        self.assertAlmostEqual(corr(x, y), -0.3409853364175933)\n",
    "        np.random.seed(456)\n",
    "        x = np.random.randint(0, 50, 10)\n",
    "        y = np.random.randint(0, 50, 10)\n",
    "        self.assertAlmostEqual(corr(x, y), -0.16475204420969639)\n",
    "\n",
    "suite = unittest.TestLoader().loadTestsFromTestCase(TestArrayComputing)\n",
    "runner = unittest.TextTestRunner(verbosity=2)\n",
    "test_results = runner.run(suite)\n",
    "number_of_failures = len(test_results.failures)\n",
    "number_of_errors = len(test_results.errors)\n",
    "number_of_test_runs = test_results.testsRun\n",
    "number_of_successes = number_of_test_runs - (number_of_failures + number_of_errors)"
   ]
  },
  {
   "cell_type": "code",
   "execution_count": 10,
   "metadata": {
    "deletable": false,
    "editable": false
   },
   "outputs": [
    {
     "name": "stdout",
     "output_type": "stream",
     "text": [
      "You've got 7 successes among 7 questions.\n"
     ]
    }
   ],
   "source": [
    "print(\"You've got {} successes among {} questions.\".format(number_of_successes, number_of_test_runs))"
   ]
  }
 ],
 "metadata": {
  "kernelspec": {
   "display_name": "Python Data Analysis",
   "language": "python",
   "name": "pyda"
  },
  "language_info": {
   "codemirror_mode": {
    "name": "ipython",
    "version": 3
   },
   "file_extension": ".py",
   "mimetype": "text/x-python",
   "name": "python",
   "nbconvert_exporter": "python",
   "pygments_lexer": "ipython3",
   "version": "3.6.8"
  }
 },
 "nbformat": 4,
 "nbformat_minor": 4
}
